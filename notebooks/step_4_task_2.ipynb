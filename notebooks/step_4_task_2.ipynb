{
 "cells": [
  {
   "cell_type": "code",
   "execution_count": 1,
   "id": "0505b405-b702-4d90-82d7-1d51bf847d45",
   "metadata": {
    "tags": []
   },
   "outputs": [
    {
     "name": "stderr",
     "output_type": "stream",
     "text": [
      "/var/folders/xf/h_7q5x7d77lfdvd232_h4rzm0000gn/T/ipykernel_86916/2930613842.py:24: FutureWarning: The default value of numeric_only in DataFrameGroupBy.sum is deprecated. In a future version, numeric_only will default to False. Either specify numeric_only or select only columns which should be valid for the function.\n",
      "  grouped_area = df.groupby('year').sum()\n"
     ]
    }
   ],
   "source": [
    "import pandas as pd\n",
    "import numpy as np\n",
    "import requests\n",
    "import plotly.express as px\n",
    "import plotly.graph_objects as go\n",
    "from plotly.subplots import make_subplots\n",
    "import os\n",
    "from pathlib import Path\n",
    "\n",
    "notebook_path = os.path.join(os.getcwd())\n",
    "data_path = Path(notebook_path).parent.joinpath('data')\n",
    "\n",
    "# Read data\n",
    "df = pd.read_csv(data_path / 'wildfires_with_geocoord.csv', parse_dates=True)\n",
    "\n",
    "# Make grouping by year - counts\n",
    "grouped_counts = df.groupby('year').count()\n",
    "grouped_counts = grouped_counts.reset_index()\n",
    "grouped_counts = grouped_counts[['year', 'agency']]\n",
    "grouped_counts = grouped_counts.rename(columns={'agency':'count'})\n",
    "grouped_counts = grouped_counts.sort_values('year')\n",
    "\n",
    "# Make grouping by year - acres burned\n",
    "grouped_area = df.groupby('year').sum()\n",
    "grouped_area = grouped_area.reset_index()\n",
    "grouped_area = grouped_area[['year', 'gis_acres']]\n",
    "grouped_area = grouped_area.rename(columns={'gis_acres':'area_burned'})\n",
    "grouped_area = grouped_area.sort_values('year')\n",
    "\n",
    "# Merge\n",
    "df_grouped = grouped_counts.merge(grouped_area)\n",
    "# Save\n",
    "df_grouped.to_csv(data_path / 'wildfires_grouped_task2.csv', index=False)"
   ]
  },
  {
   "cell_type": "code",
   "execution_count": null,
   "id": "c8f1722d-6ca8-4144-996b-6af20f35a8e4",
   "metadata": {},
   "outputs": [],
   "source": []
  }
 ],
 "metadata": {
  "kernelspec": {
   "display_name": "Python 3 (ipykernel)",
   "language": "python",
   "name": "python3"
  },
  "language_info": {
   "codemirror_mode": {
    "name": "ipython",
    "version": 3
   },
   "file_extension": ".py",
   "mimetype": "text/x-python",
   "name": "python",
   "nbconvert_exporter": "python",
   "pygments_lexer": "ipython3",
   "version": "3.9.12"
  }
 },
 "nbformat": 4,
 "nbformat_minor": 5
}
