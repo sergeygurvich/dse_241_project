{
 "cells": [
  {
   "cell_type": "code",
   "execution_count": 1,
   "id": "0505b405-b702-4d90-82d7-1d51bf847d45",
   "metadata": {
    "tags": []
   },
   "outputs": [],
   "source": [
    "import pandas as pd\n",
    "import numpy as np\n",
    "import requests\n",
    "import plotly.express as px\n",
    "import plotly.graph_objects as go\n",
    "from plotly.subplots import make_subplots\n",
    "import os\n",
    "from pathlib import Path\n",
    "\n",
    "notebook_path = os.path.join(os.getcwd())\n",
    "data_path = Path(notebook_path).parent.joinpath('data')\n",
    "\n",
    "# Read data\n",
    "df = pd.read_csv(data_path / 'wildfires_with_geocoord.csv', parse_dates=True)\n",
    "grouped = df.groupby(['year', 'cause']).count()\n",
    "grouped.reset_index(inplace=True)\n",
    "grouped = grouped[['year', 'cause', 'agency']]\n",
    "grouped.columns = ['year', 'cause', 'count']\n",
    "\n",
    "grouped.to_csv(data_path / 'wildfires_grouped_task3.csv', index=False)\n"
   ]
  },
  {
   "cell_type": "code",
   "execution_count": null,
   "id": "efcf26f2-0bc6-4031-8edb-f626baff7f03",
   "metadata": {},
   "outputs": [],
   "source": []
  }
 ],
 "metadata": {
  "kernelspec": {
   "display_name": "Python 3 (ipykernel)",
   "language": "python",
   "name": "python3"
  },
  "language_info": {
   "codemirror_mode": {
    "name": "ipython",
    "version": 3
   },
   "file_extension": ".py",
   "mimetype": "text/x-python",
   "name": "python",
   "nbconvert_exporter": "python",
   "pygments_lexer": "ipython3",
   "version": "3.9.12"
  }
 },
 "nbformat": 4,
 "nbformat_minor": 5
}
