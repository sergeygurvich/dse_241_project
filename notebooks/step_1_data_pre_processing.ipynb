{
 "cells": [
  {
   "cell_type": "code",
   "execution_count": 1,
   "id": "a163314a-4dc4-4a74-a98a-a63e1f9d3e69",
   "metadata": {
    "tags": []
   },
   "outputs": [],
   "source": [
    "import pandas as pd\n",
    "import numpy as np\n",
    "import os\n",
    "from pathlib import Path\n",
    "\n",
    "notebook_path = os.path.join(os.getcwd())\n",
    "data_path = Path(notebook_path).parent.joinpath('data')\n",
    "\n",
    "# Read 2016 and 2017 worksheets data. 2016 contains all the data back to 1878.\n",
    "df_2017 = pd.read_excel(data_path / 'Fires_100.xlsx')\n",
    "df_2016 = pd.read_excel(data_path / 'Fires_100.xlsx',1)\n",
    "\n",
    "# Remove missing data\n",
    "df_2017.rename(columns={'YEAR_':'YEAR'}, inplace=True)\n",
    "df_2017.YEAR.fillna(2017, inplace=True)\n",
    "df_2016 = df_2016[df_2016.YEAR!='<Null>'].dropna(subset='YEAR')\n",
    "\n",
    "# Concat 2016 and 2017 data\n",
    "df = pd.concat([df_2016, df_2017])\n",
    "\n",
    "# Remove unused columns\n",
    "df = df[['YEAR', 'AGENCY', 'UNIT_ID', 'FIRE_NAME', 'INC_NUM',\n",
    "       'ALARM_DATE', 'CONT_DATE', 'CAUSE', 'REPORT_AC',\n",
    "       'GIS_ACRES', 'C_METHOD', 'OBJECTIVE']]\n",
    "\n",
    "# Rows with 'null' string should be treated like real nulls\n",
    "df = df.replace('<Null>', np.nan)\n",
    "\n",
    "# Save\n",
    "df.to_csv(data_path / 'wildfires_preprocessed.csv', index=False)"
   ]
  },
  {
   "cell_type": "code",
   "execution_count": 3,
   "id": "5bb3e8f6-165c-44e9-9b44-79398ac9ef1d",
   "metadata": {
    "tags": []
   },
   "outputs": [],
   "source": []
  },
  {
   "cell_type": "code",
   "execution_count": 5,
   "id": "3a07880e-8072-46f4-822c-42876daeee7a",
   "metadata": {
    "tags": []
   },
   "outputs": [],
   "source": []
  }
 ],
 "metadata": {
  "kernelspec": {
   "display_name": "Python 3 (ipykernel)",
   "language": "python",
   "name": "python3"
  },
  "language_info": {
   "codemirror_mode": {
    "name": "ipython",
    "version": 3
   },
   "file_extension": ".py",
   "mimetype": "text/x-python",
   "name": "python",
   "nbconvert_exporter": "python",
   "pygments_lexer": "ipython3",
   "version": "3.9.13"
  }
 },
 "nbformat": 4,
 "nbformat_minor": 5
}
