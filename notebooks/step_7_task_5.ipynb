{
 "cells": [
  {
   "cell_type": "code",
   "execution_count": 2,
   "id": "0505b405-b702-4d90-82d7-1d51bf847d45",
   "metadata": {
    "tags": []
   },
   "outputs": [
    {
     "name": "stderr",
     "output_type": "stream",
     "text": [
      "/var/folders/xf/h_7q5x7d77lfdvd232_h4rzm0000gn/T/ipykernel_87352/873008410.py:24: FutureWarning: The default value of numeric_only in DataFrameGroupBy.mean is deprecated. In a future version, numeric_only will default to False. Either specify numeric_only or select only columns which should be valid for the function.\n",
      "  grouped = df.groupby('year').mean()\n"
     ]
    }
   ],
   "source": [
    "import pandas as pd\n",
    "import numpy as np\n",
    "import requests\n",
    "import plotly.express as px\n",
    "import plotly.graph_objects as go\n",
    "from plotly.subplots import make_subplots\n",
    "import os\n",
    "from pathlib import Path\n",
    "\n",
    "notebook_path = os.path.join(os.getcwd())\n",
    "data_path = Path(notebook_path).parent.joinpath('data')\n",
    "\n",
    "# Read data\n",
    "df = pd.read_csv(data_path / 'wildfires_with_geocoord.csv', parse_dates=True)\n",
    "\n",
    "# some data wrangling\n",
    "df.dropna(subset=['alarm_date', 'cont_date'], inplace=True)\n",
    "df['start'] = pd.to_datetime(df.alarm_date)\n",
    "df['end'] = pd.to_datetime(df.cont_date)\n",
    "df['duration'] = (df['end'] - df['start']).dt.days\n",
    "df = df[df.duration>0]  # drop mistakes\n",
    "\n",
    "\n",
    "grouped = df.groupby('year').mean()\n",
    "grouped.reset_index(inplace=True)\n",
    "grouped = grouped[['year', 'duration']]\n",
    "grouped.to_csv(data_path / 'wildfires_grouped_task5.csv', index=False)"
   ]
  },
  {
   "cell_type": "code",
   "execution_count": null,
   "id": "95bae9df-4e0d-4efa-a620-5b7b13b63538",
   "metadata": {},
   "outputs": [],
   "source": []
  }
 ],
 "metadata": {
  "kernelspec": {
   "display_name": "Python 3 (ipykernel)",
   "language": "python",
   "name": "python3"
  },
  "language_info": {
   "codemirror_mode": {
    "name": "ipython",
    "version": 3
   },
   "file_extension": ".py",
   "mimetype": "text/x-python",
   "name": "python",
   "nbconvert_exporter": "python",
   "pygments_lexer": "ipython3",
   "version": "3.9.12"
  }
 },
 "nbformat": 4,
 "nbformat_minor": 5
}
