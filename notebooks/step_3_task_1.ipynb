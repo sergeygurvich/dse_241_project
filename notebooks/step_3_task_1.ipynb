{
 "cells": [
  {
   "cell_type": "code",
   "execution_count": 4,
   "id": "31a9a1a1-370b-4164-b1ce-6441d0b0d6a0",
   "metadata": {},
   "outputs": [
    {
     "name": "stderr",
     "output_type": "stream",
     "text": [
      "/var/folders/xf/h_7q5x7d77lfdvd232_h4rzm0000gn/T/ipykernel_1678/1038185377.py:20: FutureWarning: The default value of numeric_only in DataFrameGroupBy.sum is deprecated. In a future version, numeric_only will default to False. Either specify numeric_only or select only columns which should be valid for the function.\n",
      "  grouped_area = df.groupby(['unit', 'lat', 'lon', 'year']).sum()\n"
     ]
    }
   ],
   "source": [
    "import pandas as pd\n",
    "import numpy as np\n",
    "import requests\n",
    "import plotly.express as px\n",
    "import os\n",
    "from pathlib import Path\n",
    "\n",
    "notebook_path = os.path.join(os.getcwd())\n",
    "data_path = Path(notebook_path).parent.joinpath('data')\n",
    "\n",
    "# Read data\n",
    "df = pd.read_csv(data_path / 'wildfires_with_geocoord.csv', parse_dates=True)\n",
    "\n",
    "# Make grouping by unit and year - counts\n",
    "grouped_count = df.groupby(['unit', 'lat', 'lon', 'year']).count()\n",
    "grouped_count = grouped_count.reset_index()\n",
    "grouped_count = grouped_count[['unit', 'lat', 'lon', 'year','agency']]\n",
    "grouped_count = grouped_count.rename(columns={'agency':'count'})\n",
    "\n",
    "grouped_area = df.groupby(['unit', 'lat', 'lon', 'year']).sum()\n",
    "grouped_area = grouped_area.reset_index()\n",
    "grouped_area = grouped_area[['unit', 'lat', 'lon', 'year', 'gis_acres']]\n",
    "grouped_area = grouped_area.rename(columns={'gis_acres':'area_burned'})\n",
    "\n",
    "grouped = pd.concat([grouped_count, grouped_area[['area_burned']]], axis=1)\n",
    "\n",
    "grouped = grouped.sort_values('year')\n",
    "grouped = grouped[grouped.year<2018]\n",
    "# Save\n",
    "grouped.to_csv(data_path / 'wildfires_grouped_task1.csv', index=False)"
   ]
  },
  {
   "cell_type": "code",
   "execution_count": null,
   "id": "dcd06646-ca47-4ec7-b9bd-3e82d288ed1d",
   "metadata": {},
   "outputs": [],
   "source": []
  }
 ],
 "metadata": {
  "kernelspec": {
   "display_name": "Python 3 (ipykernel)",
   "language": "python",
   "name": "python3"
  },
  "language_info": {
   "codemirror_mode": {
    "name": "ipython",
    "version": 3
   },
   "file_extension": ".py",
   "mimetype": "text/x-python",
   "name": "python",
   "nbconvert_exporter": "python",
   "pygments_lexer": "ipython3",
   "version": "3.9.12"
  }
 },
 "nbformat": 4,
 "nbformat_minor": 5
}
