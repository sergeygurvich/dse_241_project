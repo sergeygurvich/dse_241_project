{
 "cells": [
  {
   "cell_type": "code",
   "execution_count": 7,
   "id": "0505b405-b702-4d90-82d7-1d51bf847d45",
   "metadata": {
    "tags": []
   },
   "outputs": [],
   "source": [
    "import pandas as pd\n",
    "import numpy as np\n",
    "import requests\n",
    "import plotly.express as px\n",
    "import plotly.graph_objects as go\n",
    "from plotly.subplots import make_subplots\n",
    "import os\n",
    "from pathlib import Path\n",
    "\n",
    "notebook_path = os.path.join(os.getcwd())\n",
    "data_path = Path(notebook_path).parent.joinpath('data')\n",
    "\n",
    "# Read data\n",
    "df = pd.read_csv(data_path / 'wildfires_with_geocoord.csv', parse_dates=True)\n",
    "\n",
    "# some data wrangling\n",
    "df['month'] = pd.to_datetime(df.alarm_date).dt.month\n",
    "df.dropna(subset='month', inplace=True)\n",
    "grouped = df.groupby(['month', 'cause']).count()\n",
    "grouped.reset_index(inplace=True)\n",
    "grouped = grouped[['month', 'cause', 'agency']]\n",
    "grouped.columns = ['month', 'cause', 'count']\n",
    "grouped\n",
    "grouped.to_csv(data_path / 'wildfires_grouped_task4_2.csv', index=False)\n",
    "\n",
    "# 4.2\n",
    "df_4_2 = pd.read_csv(data_path / 'wildfires_grouped_task4_2.csv')\n",
    "order = df_4_2.groupby('cause').sum().sort_values('count', ascending=False)\n",
    "order_list = order.index.to_list()\n",
    "\n",
    "# 4.1\n",
    "df_4_1 = pd.read_csv(data_path / 'wildfires_grouped_task4_2.csv')\n",
    "df_4_1 = df_4_2.groupby('month').sum()\n",
    "df_4_1.reset_index(inplace=True)\n",
    "df_4_1.to_csv(data_path / 'wildfires_grouped_task4_1.csv', index=False)\n",
    "\n",
    "\n",
    "# 4.3\n",
    "df.dropna(subset='month', inplace=True)\n",
    "grouped = df.groupby(['month', 'year']).count()\n",
    "grouped.reset_index(inplace=True)\n",
    "grouped = grouped[['month', 'year', 'agency']]\n",
    "grouped.columns = ['month', 'year', 'count']\n",
    "grouped.sort_values('year', inplace=True)\n",
    "df_12_months = pd.DataFrame(columns=['month'], data={'month':np.arange(1,13)})\n",
    "df_years = pd.DataFrame(columns=['year'], data={'year':np.arange(1898,2019)})\n",
    "temp = df_years.merge(df_12_months, how='cross')\n",
    "df_merged = temp.merge(grouped, how='outer', left_on=['year','month'], right_on=['year','month']).sort_values(['year', 'month'])\n",
    "df_merged.fillna(0, inplace=True)\n",
    "df_merged.to_csv(data_path / 'wildfires_grouped_task4_3.csv', index=False)"
   ]
  },
  {
   "cell_type": "code",
   "execution_count": null,
   "id": "5b531a8c-87da-440a-beda-eb41a0b402c7",
   "metadata": {},
   "outputs": [],
   "source": []
  }
 ],
 "metadata": {
  "kernelspec": {
   "display_name": "Python 3 (ipykernel)",
   "language": "python",
   "name": "python3"
  },
  "language_info": {
   "codemirror_mode": {
    "name": "ipython",
    "version": 3
   },
   "file_extension": ".py",
   "mimetype": "text/x-python",
   "name": "python",
   "nbconvert_exporter": "python",
   "pygments_lexer": "ipython3",
   "version": "3.9.12"
  }
 },
 "nbformat": 4,
 "nbformat_minor": 5
}
