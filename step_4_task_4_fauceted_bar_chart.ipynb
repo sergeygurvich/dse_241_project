{
 "cells": [
  {
   "cell_type": "code",
   "execution_count": 1,
   "id": "0505b405-b702-4d90-82d7-1d51bf847d45",
   "metadata": {
    "tags": []
   },
   "outputs": [],
   "source": [
    "import pandas as pd\n",
    "import numpy as np\n",
    "import requests\n",
    "import plotly.express as px\n",
    "import plotly.graph_objects as go\n",
    "from plotly.subplots import make_subplots\n",
    "\n",
    "# Read data\n",
    "df = pd.read_csv('wildfires_with_geocoord.csv', parse_dates=True)\n",
    "\n",
    "# some data wrangling\n",
    "df['month'] = pd.to_datetime(df.alarm_date).dt.strftime('%b')\n",
    "df.dropna(subset='month', inplace=True)\n",
    "grouped = df.groupby(['month', 'year']).count()\n",
    "grouped.reset_index(inplace=True)\n",
    "grouped = grouped[['month', 'year', 'agency']]\n",
    "grouped.columns = ['month', 'year', 'count']\n",
    "grouped.sort_values('year', inplace=True)\n",
    "grouped.to_csv('wildfires_grouped_task4_2.csv', index=False)"
   ]
  },
  {
   "cell_type": "code",
   "execution_count": 12,
   "id": "e9d8c768-e2f4-41e9-8464-576998568a99",
   "metadata": {
    "tags": []
   },
   "outputs": [
    {
     "name": "stdout",
     "output_type": "stream",
     "text": [
      "<class 'pandas.core.frame.DataFrame'>\n",
      "Int64Index: 795 entries, 0 to 529\n",
      "Data columns (total 3 columns):\n",
      " #   Column  Non-Null Count  Dtype \n",
      "---  ------  --------------  ----- \n",
      " 0   month   795 non-null    object\n",
      " 1   year    795 non-null    int64 \n",
      " 2   count   795 non-null    int64 \n",
      "dtypes: int64(2), object(1)\n",
      "memory usage: 24.8+ KB\n"
     ]
    }
   ],
   "source": [
    "df_12_months = pd.DataFrame(columns=['month'], data={'month':\n",
    "                                                     ['Jan', 'Feb', 'Mar',\n",
    "                                                   'Apr', 'May', 'Jun',\n",
    "                                                   'Jul', 'Aug', 'Sep',\n",
    "                                                   'Oct', 'Nov', 'Dec']})\n",
    "# df_years = pd.DataFrame(columns=['year'], data={'year':np.arange(1898,2019)})\n",
    "# temp = df_years.merge(df_12_months, how='cross')\n",
    "# t.head(30)\n",
    "grouped.month=grouped.month.astype(str)\n",
    "df_12_months.month=df_12_months.month.astype(str)\n",
    "grouped.info()"
   ]
  },
  {
   "cell_type": "code",
   "execution_count": 15,
   "id": "27a4327e-440f-4163-8324-f14db628f366",
   "metadata": {
    "tags": []
   },
   "outputs": [
    {
     "data": {
      "text/html": [
       "<div>\n",
       "<style scoped>\n",
       "    .dataframe tbody tr th:only-of-type {\n",
       "        vertical-align: middle;\n",
       "    }\n",
       "\n",
       "    .dataframe tbody tr th {\n",
       "        vertical-align: top;\n",
       "    }\n",
       "\n",
       "    .dataframe thead th {\n",
       "        text-align: right;\n",
       "    }\n",
       "</style>\n",
       "<table border=\"1\" class=\"dataframe\">\n",
       "  <thead>\n",
       "    <tr style=\"text-align: right;\">\n",
       "      <th></th>\n",
       "      <th>month</th>\n",
       "      <th>year</th>\n",
       "      <th>count</th>\n",
       "    </tr>\n",
       "  </thead>\n",
       "  <tbody>\n",
       "    <tr>\n",
       "      <th>0</th>\n",
       "      <td>Apr</td>\n",
       "      <td>1898</td>\n",
       "      <td>1</td>\n",
       "    </tr>\n",
       "    <tr>\n",
       "      <th>49</th>\n",
       "      <td>Sep</td>\n",
       "      <td>1898</td>\n",
       "      <td>2</td>\n",
       "    </tr>\n",
       "    <tr>\n",
       "      <th>156</th>\n",
       "      <td>Aug</td>\n",
       "      <td>1902</td>\n",
       "      <td>1</td>\n",
       "    </tr>\n",
       "    <tr>\n",
       "      <th>265</th>\n",
       "      <td>Oct</td>\n",
       "      <td>1903</td>\n",
       "      <td>1</td>\n",
       "    </tr>\n",
       "    <tr>\n",
       "      <th>353</th>\n",
       "      <td>Jun</td>\n",
       "      <td>1907</td>\n",
       "      <td>1</td>\n",
       "    </tr>\n",
       "    <tr>\n",
       "      <th>...</th>\n",
       "      <td>...</td>\n",
       "      <td>...</td>\n",
       "      <td>...</td>\n",
       "    </tr>\n",
       "    <tr>\n",
       "      <th>741</th>\n",
       "      <td>Dec</td>\n",
       "      <td>2017</td>\n",
       "      <td>5</td>\n",
       "    </tr>\n",
       "    <tr>\n",
       "      <th>706</th>\n",
       "      <td>May</td>\n",
       "      <td>2017</td>\n",
       "      <td>7</td>\n",
       "    </tr>\n",
       "    <tr>\n",
       "      <th>155</th>\n",
       "      <td>Sep</td>\n",
       "      <td>2017</td>\n",
       "      <td>28</td>\n",
       "    </tr>\n",
       "    <tr>\n",
       "      <th>636</th>\n",
       "      <td>Nov</td>\n",
       "      <td>2017</td>\n",
       "      <td>1</td>\n",
       "    </tr>\n",
       "    <tr>\n",
       "      <th>707</th>\n",
       "      <td>May</td>\n",
       "      <td>2018</td>\n",
       "      <td>1</td>\n",
       "    </tr>\n",
       "  </tbody>\n",
       "</table>\n",
       "<p>795 rows × 3 columns</p>\n",
       "</div>"
      ],
      "text/plain": [
       "    month  year  count\n",
       "0     Apr  1898      1\n",
       "49    Sep  1898      2\n",
       "156   Aug  1902      1\n",
       "265   Oct  1903      1\n",
       "353   Jun  1907      1\n",
       "..    ...   ...    ...\n",
       "741   Dec  2017      5\n",
       "706   May  2017      7\n",
       "155   Sep  2017     28\n",
       "636   Nov  2017      1\n",
       "707   May  2018      1\n",
       "\n",
       "[795 rows x 3 columns]"
      ]
     },
     "execution_count": 15,
     "metadata": {},
     "output_type": "execute_result"
    }
   ],
   "source": [
    "grouped.merge(df_12_months, how='outer', left_on='month', right_on='month').sort_values('year')"
   ]
  },
  {
   "cell_type": "code",
   "execution_count": null,
   "id": "cb66cfff-0c8e-4148-971b-39b72d0d9691",
   "metadata": {
    "tags": []
   },
   "outputs": [],
   "source": [
    "t"
   ]
  },
  {
   "cell_type": "code",
   "execution_count": null,
   "id": "c8f1722d-6ca8-4144-996b-6af20f35a8e4",
   "metadata": {},
   "outputs": [],
   "source": [
    "df_4_3 = pd.read_csv('wildfires_grouped_task4_2.csv')\n",
    "fig_5 = px.bar(df_4_3, x=\"month\", y=\"count\", title=\"Seasonality Of Wildfires by Their Cause\",\n",
    "            # facet_row='year', \n",
    "            # facet_col_wrap=1,\n",
    "            # facet_row_spacing=0.007,\n",
    "            height=400,\n",
    "            width=1000,\n",
    "            text_auto=True,\n",
    "            animation_frame='year'\n",
    "            # category_orders={'cause': order_list},\n",
    "            )\n",
    "fig_5.update_xaxes(tickvals=np.arange(1,13), ticktext=['Jan', 'Feb', 'Mar',\n",
    "                                                   'Apr', 'May', 'Jun',\n",
    "                                                   'Jul', 'Aug', 'Sep',\n",
    "                                                   'Oct', 'Nov', 'Dec'])\n",
    "fig_5.update_yaxes(title_font={'size':1})\n",
    "xaxis = go.layout.YAxis(\n",
    "        tickangle = 45)\n",
    "# fig_5.for_each_annotation(lambda a: a.update(text=a.text.split(\"- \")[1].split(\"/\")[0]))\n",
    "fig_5.update_yaxes(matches=None)\n",
    "\n",
    "fig_5.show()"
   ]
  },
  {
   "cell_type": "code",
   "execution_count": null,
   "id": "95bae9df-4e0d-4efa-a620-5b7b13b63538",
   "metadata": {},
   "outputs": [],
   "source": []
  }
 ],
 "metadata": {
  "kernelspec": {
   "display_name": "Python 3 (ipykernel)",
   "language": "python",
   "name": "python3"
  },
  "language_info": {
   "codemirror_mode": {
    "name": "ipython",
    "version": 3
   },
   "file_extension": ".py",
   "mimetype": "text/x-python",
   "name": "python",
   "nbconvert_exporter": "python",
   "pygments_lexer": "ipython3",
   "version": "3.9.13"
  }
 },
 "nbformat": 4,
 "nbformat_minor": 5
}
